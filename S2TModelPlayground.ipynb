version https://git-lfs.github.com/spec/v1
oid sha256:29ee55535086f92d80f769e79709dffe575795977827d0b1364e7bd0383794af
size 1049482
