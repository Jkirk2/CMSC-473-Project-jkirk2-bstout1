version https://git-lfs.github.com/spec/v1
oid sha256:3f83f2bcc78bb841e13945e5f13dc3545fd4f2d1e3bb5a4df889395841c05223
size 487111
