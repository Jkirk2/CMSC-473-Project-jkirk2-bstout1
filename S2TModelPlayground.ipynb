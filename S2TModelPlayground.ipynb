version https://git-lfs.github.com/spec/v1
oid sha256:4f9da283695b0f7850b34e61c6201de40699bb8f05b3b09315d972b42bdd2e6e
size 536062
